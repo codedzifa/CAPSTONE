{
  "cells": [
    {
      "cell_type": "markdown",
      "metadata": {
        "colab_type": "text",
        "id": "view-in-github"
      },
      "source": [
        "<a href=\"https://colab.research.google.com/github/eaedk/Machine-Learning-Tutorials/blob/main/ML_Step_By_Step_Guide.ipynb\" target=\"_parent\"><img src=\"https://colab.research.google.com/assets/colab-badge.svg\" alt=\"Open In Colab\"/></a>"
      ]
    },
    {
      "cell_type": "markdown",
      "metadata": {},
      "source": [
        "# **Customer Churn Prediction Challenge For Azubian**\n",
        "\n",
        "## **Project Statement of the Problem**:\n",
        "The focus of this project is a customer churn prediction for an African telecommunications firm that provides customers with airtime and mobile data bundles. The company aims to create a machine learning model capable of effectively forecasting the probability of individual customers \"churning,\" which means they become inactive and not making any transactions for a period of 90 days. Accurate churn prediction plays a pivotal role in the company's success, as it empowers proactive strategies to retain customers and minimize revenue loss.\n",
        "\n",
        "## **Project Objective**:\n",
        "The objective of this challenge is to develop a machine learning model to predict the likelihood of each customer “churning,” i.e. becoming inactive and not making any transactions for 90 days. This will help this telecom company to better serve their customers by understanding which customers are at risk of leaving."
      ]
    },
    {
      "cell_type": "markdown",
      "metadata": {},
      "source": [
        "## **Hypothesis**\n",
        "\n",
        "**Null hypothesis(H0)**: There is no significant relationship between the customers' characteristics and the churn rate. In other words, the variables in the dataset have no impact on customer churn.\n",
        "\n",
        "**Alternative hypothesisH1)**: There is a significant relationship between the customers' characteristics and the churn rate. The variables in the dataset have an impact on customer churn.\n",
        "\n",
        "## **Business Questions**\n",
        "\n",
        "#### 1.  What is the overall churn rate of the company?\n",
        "\n",
        "#### 2. Which region has the highest representation?\n",
        "\n",
        "#### 3. Which tenure has the highest representation?\n",
        "\n",
        "#### 4. Does the length of tenure (months) affect the churn rate of customers?\n",
        "\n",
        "#### 5. Which Region has most clients churning?\n",
        "\n",
        "#### 6. Do client churn or not churn if active for 90 days (Regularity)?\n",
        "\n",
        "#### 7. What's the correlation between the various features?\n"
      ]
    },
    {
      "cell_type": "markdown",
      "metadata": {},
      "source": [
        " ."
      ]
    },
    {
      "cell_type": "markdown",
      "metadata": {},
      "source": [
        "."
      ]
    },
    {
      "cell_type": "markdown",
      "metadata": {},
      "source": [
        "# Data Understanding\n",
        "- Data collated from the ***Customer Relationship Management*** team contains demographic and usage information for each customer as well as whether or not they churned. Below are meanings to each varible provided in the dataset"
      ]
    },
    {
      "cell_type": "markdown",
      "metadata": {},
      "source": [
        "The churn dataset includes 19 variables including 15 numeric variables and 4 categorical variables.\n",
        "1. user_id - Unique identifier for each customer\n",
        "2. REGION - the location of each client\n",
        "3. TENURE - duration in the network\n",
        "4. MONTANT - top-up amount\n",
        "5. FREQUENCE_RECH - number of times the customer refilled\n",
        "5. REVENUE - monthly income of each client\n",
        "6. ARPU_SEGMENT - income over 90 days / 3\n",
        "7. FREQUENCE - number of times the client has made an income\n",
        "8. DATA_VOLUME - number of connections\n",
        "9. ON_NET - inter expresso call\n",
        "10. ORANGE - call to orange\n",
        "11. TIGO - call to Tigo\n",
        "12. ZONE1 - call to zones1\n",
        "13. ZONE2 - call to zones2\n",
        "14. MRG - a client who is going\n",
        "15. REGULARITY - number of times the client is active for 90 days\n",
        "16. TOP_PACK - the most active packs\n",
        "17. FREQ_TOP_PACK - number of times the client has activated the top pack packages\n",
        "18. CHURN - variable to predict - Target"
      ]
    },
    {
      "cell_type": "markdown",
      "metadata": {
        "id": "n4VFUnkuexCE"
      },
      "source": [
        "# Setup"
      ]
    },
    {
      "cell_type": "markdown",
      "metadata": {
        "id": "qdFpRxPje1gw"
      },
      "source": [
        "## Installation\n",
        "Here is the section to install all the packages/libraries that will be needed to tackle the challlenge."
      ]
    },
    {
      "cell_type": "code",
      "execution_count": 1,
      "metadata": {
        "id": "W-d-roFQe6yi"
      },
      "outputs": [
        {
          "name": "stdout",
          "output_type": "stream",
          "text": [
            "Requirement already satisfied: tabulate in c:\\users\\user\\anaconda3\\lib\\site-packages (0.8.10)\n",
            "Note: you may need to restart the kernel to use updated packages.\n",
            "Requirement already satisfied: plotly in c:\\users\\user\\anaconda3\\lib\\site-packages (5.9.0)Note: you may need to restart the kernel to use updated packages.\n",
            "\n",
            "Requirement already satisfied: tenacity>=6.2.0 in c:\\users\\user\\anaconda3\\lib\\site-packages (from plotly) (8.0.1)\n",
            "Requirement already satisfied: statsmodels in c:\\users\\user\\anaconda3\\lib\\site-packages (0.13.2)\n",
            "Requirement already satisfied: numpy>=1.17 in c:\\users\\user\\anaconda3\\lib\\site-packages (from statsmodels) (1.21.5)\n",
            "Requirement already satisfied: scipy>=1.3 in c:\\users\\user\\anaconda3\\lib\\site-packages (from statsmodels) (1.9.1)\n",
            "Requirement already satisfied: pandas>=0.25 in c:\\users\\user\\anaconda3\\lib\\site-packages (from statsmodels) (1.4.4)\n",
            "Requirement already satisfied: patsy>=0.5.2 in c:\\users\\user\\anaconda3\\lib\\site-packages (from statsmodels) (0.5.2)\n",
            "Requirement already satisfied: packaging>=21.3 in c:\\users\\user\\anaconda3\\lib\\site-packages (from statsmodels) (21.3)\n",
            "Requirement already satisfied: pyparsing!=3.0.5,>=2.0.2 in c:\\users\\user\\anaconda3\\lib\\site-packages (from packaging>=21.3->statsmodels) (3.0.9)\n",
            "Requirement already satisfied: pytz>=2020.1 in c:\\users\\user\\anaconda3\\lib\\site-packages (from pandas>=0.25->statsmodels) (2022.1)\n",
            "Requirement already satisfied: python-dateutil>=2.8.1 in c:\\users\\user\\anaconda3\\lib\\site-packages (from pandas>=0.25->statsmodels) (2.8.2)\n",
            "Requirement already satisfied: six in c:\\users\\user\\anaconda3\\lib\\site-packages (from patsy>=0.5.2->statsmodels) (1.16.0)\n",
            "Note: you may need to restart the kernel to use updated packages.\n",
            "Requirement already satisfied: imblearn in c:\\users\\user\\anaconda3\\lib\\site-packages (0.0)\n",
            "Requirement already satisfied: imbalanced-learn in c:\\users\\user\\anaconda3\\lib\\site-packages (from imblearn) (0.11.0)\n",
            "Requirement already satisfied: scikit-learn>=1.0.2 in c:\\users\\user\\anaconda3\\lib\\site-packages (from imbalanced-learn->imblearn) (1.0.2)\n",
            "Requirement already satisfied: numpy>=1.17.3 in c:\\users\\user\\anaconda3\\lib\\site-packages (from imbalanced-learn->imblearn) (1.21.5)\n",
            "Requirement already satisfied: joblib>=1.1.1 in c:\\users\\user\\anaconda3\\lib\\site-packages (from imbalanced-learn->imblearn) (1.3.2)\n",
            "Requirement already satisfied: scipy>=1.5.0 in c:\\users\\user\\anaconda3\\lib\\site-packages (from imbalanced-learn->imblearn) (1.9.1)\n",
            "Requirement already satisfied: threadpoolctl>=2.0.0 in c:\\users\\user\\anaconda3\\lib\\site-packages (from imbalanced-learn->imblearn) (2.2.0)\n",
            "Note: you may need to restart the kernel to use updated packages.\n",
            "Requirement already satisfied: phik in c:\\users\\user\\anaconda3\\lib\\site-packages (0.12.3)\n",
            "Requirement already satisfied: matplotlib>=2.2.3 in c:\\users\\user\\anaconda3\\lib\\site-packages (from phik) (3.5.2)\n",
            "Requirement already satisfied: joblib>=0.14.1 in c:\\users\\user\\anaconda3\\lib\\site-packages (from phik) (1.3.2)\n",
            "Requirement already satisfied: pandas>=0.25.1 in c:\\users\\user\\anaconda3\\lib\\site-packages (from phik) (1.4.4)\n",
            "Requirement already satisfied: numpy>=1.18.0 in c:\\users\\user\\anaconda3\\lib\\site-packages (from phik) (1.21.5)\n",
            "Requirement already satisfied: scipy>=1.5.2 in c:\\users\\user\\anaconda3\\lib\\site-packages (from phik) (1.9.1)\n",
            "Requirement already satisfied: pyparsing>=2.2.1 in c:\\users\\user\\anaconda3\\lib\\site-packages (from matplotlib>=2.2.3->phik) (3.0.9)\n",
            "Requirement already satisfied: packaging>=20.0 in c:\\users\\user\\anaconda3\\lib\\site-packages (from matplotlib>=2.2.3->phik) (21.3)\n",
            "Requirement already satisfied: pillow>=6.2.0 in c:\\users\\user\\anaconda3\\lib\\site-packages (from matplotlib>=2.2.3->phik) (9.2.0)\n",
            "Requirement already satisfied: python-dateutil>=2.7 in c:\\users\\user\\anaconda3\\lib\\site-packages (from matplotlib>=2.2.3->phik) (2.8.2)\n",
            "Requirement already satisfied: fonttools>=4.22.0 in c:\\users\\user\\anaconda3\\lib\\site-packages (from matplotlib>=2.2.3->phik) (4.25.0)\n",
            "Requirement already satisfied: kiwisolver>=1.0.1 in c:\\users\\user\\anaconda3\\lib\\site-packages (from matplotlib>=2.2.3->phik) (1.4.2)\n",
            "Requirement already satisfied: cycler>=0.10 in c:\\users\\user\\anaconda3\\lib\\site-packages (from matplotlib>=2.2.3->phik) (0.11.0)\n",
            "Requirement already satisfied: pytz>=2020.1 in c:\\users\\user\\anaconda3\\lib\\site-packages (from pandas>=0.25.1->phik) (2022.1)\n",
            "Requirement already satisfied: six>=1.5 in c:\\users\\user\\anaconda3\\lib\\site-packages (from python-dateutil>=2.7->matplotlib>=2.2.3->phik) (1.16.0)\n",
            "Note: you may need to restart the kernel to use updated packages.\n",
            "Requirement already satisfied: xgboost in c:\\users\\user\\anaconda3\\lib\\site-packages (1.7.6)\n",
            "Requirement already satisfied: scipy in c:\\users\\user\\anaconda3\\lib\\site-packages (from xgboost) (1.9.1)\n",
            "Requirement already satisfied: numpy in c:\\users\\user\\anaconda3\\lib\\site-packages (from xgboost) (1.21.5)\n",
            "Note: you may need to restart the kernel to use updated packages.\n"
          ]
        }
      ],
      "source": [
        "# Installing relevant libraries\n",
        "%pip install tabulate\n",
        "%pip install plotly\n",
        "%pip install statsmodels\n",
        "%pip install imblearn\n",
        "%pip install phik\n",
        "%pip install xgboost"
      ]
    },
    {
      "cell_type": "markdown",
      "metadata": {
        "id": "0HmLxlQre7HW"
      },
      "source": [
        "## Importation\n",
        "Here is the section to import all the packages/libraries that will be used through this notebook."
      ]
    },
    {
      "cell_type": "code",
      "execution_count": 2,
      "metadata": {
        "id": "MP62JaiKfCnS"
      },
      "outputs": [],
      "source": [
        "# Data handling\n",
        "import pandas as pd\n",
        "import numpy as np\n",
        "\n",
        "# Vizualisation (Matplotlib, Plotly, Seaborn, etc. )\n",
        "...\n",
        "\n",
        "# EDA (pandas-profiling, etc. )\n",
        "...\n",
        "\n",
        "# Feature Processing (Scikit-learn processing, etc. )\n",
        "...\n",
        "\n",
        "# Machine Learning (Scikit-learn Estimators, Catboost, LightGBM, etc. )\n",
        "...\n",
        "\n",
        "# Hyperparameters Fine-tuning (Scikit-learn hp search, cross-validation, etc. )\n",
        "...\n",
        "\n",
        "# Other packages\n",
        "import os, pickle\n"
      ]
    },
    {
      "cell_type": "markdown",
      "metadata": {
        "id": "UfOADQf0e9i1"
      },
      "source": [
        "# Data Loading\n",
        "Here is the section to load the datasets (train, eval, test) and the additional files"
      ]
    },
    {
      "cell_type": "code",
      "execution_count": 3,
      "metadata": {
        "id": "KIQyG5EcfQlU"
      },
      "outputs": [],
      "source": [
        "# \n",
        "train = pd.read_csv(\"data/Train.csv\")\n",
        "test = pd.read_csv(\"data/Test.csv\")"
      ]
    },
    {
      "cell_type": "markdown",
      "metadata": {},
      "source": [
        "# Data Understanding"
      ]
    },
    {
      "cell_type": "markdown",
      "metadata": {},
      "source": [
        "### Preview Datasets"
      ]
    },
    {
      "cell_type": "code",
      "execution_count": 4,
      "metadata": {},
      "outputs": [
        {
          "data": {
            "text/html": [
              "<div>\n",
              "<style scoped>\n",
              "    .dataframe tbody tr th:only-of-type {\n",
              "        vertical-align: middle;\n",
              "    }\n",
              "\n",
              "    .dataframe tbody tr th {\n",
              "        vertical-align: top;\n",
              "    }\n",
              "\n",
              "    .dataframe thead th {\n",
              "        text-align: right;\n",
              "    }\n",
              "</style>\n",
              "<table border=\"1\" class=\"dataframe\">\n",
              "  <thead>\n",
              "    <tr style=\"text-align: right;\">\n",
              "      <th></th>\n",
              "      <th>user_id</th>\n",
              "      <th>REGION</th>\n",
              "      <th>TENURE</th>\n",
              "      <th>MONTANT</th>\n",
              "      <th>FREQUENCE_RECH</th>\n",
              "      <th>REVENUE</th>\n",
              "      <th>ARPU_SEGMENT</th>\n",
              "      <th>FREQUENCE</th>\n",
              "      <th>DATA_VOLUME</th>\n",
              "      <th>ON_NET</th>\n",
              "      <th>ORANGE</th>\n",
              "      <th>TIGO</th>\n",
              "      <th>ZONE1</th>\n",
              "      <th>ZONE2</th>\n",
              "      <th>MRG</th>\n",
              "      <th>REGULARITY</th>\n",
              "      <th>TOP_PACK</th>\n",
              "      <th>FREQ_TOP_PACK</th>\n",
              "      <th>CHURN</th>\n",
              "    </tr>\n",
              "  </thead>\n",
              "  <tbody>\n",
              "    <tr>\n",
              "      <th>0</th>\n",
              "      <td>7ee9e11e342e27c70455960acc80d3f91c1286d1</td>\n",
              "      <td>DAKAR</td>\n",
              "      <td>K &gt; 24 month</td>\n",
              "      <td>20000.0</td>\n",
              "      <td>47.0</td>\n",
              "      <td>21602.0</td>\n",
              "      <td>7201.0</td>\n",
              "      <td>52.0</td>\n",
              "      <td>8835.0</td>\n",
              "      <td>3391.0</td>\n",
              "      <td>396.0</td>\n",
              "      <td>185.0</td>\n",
              "      <td>NaN</td>\n",
              "      <td>NaN</td>\n",
              "      <td>NO</td>\n",
              "      <td>62</td>\n",
              "      <td>On net 200F=Unlimited _call24H</td>\n",
              "      <td>30.0</td>\n",
              "      <td>0</td>\n",
              "    </tr>\n",
              "    <tr>\n",
              "      <th>1</th>\n",
              "      <td>50443f42bdc92b10388fc56e520e4421a5fa655c</td>\n",
              "      <td>NaN</td>\n",
              "      <td>K &gt; 24 month</td>\n",
              "      <td>NaN</td>\n",
              "      <td>NaN</td>\n",
              "      <td>NaN</td>\n",
              "      <td>NaN</td>\n",
              "      <td>NaN</td>\n",
              "      <td>NaN</td>\n",
              "      <td>NaN</td>\n",
              "      <td>NaN</td>\n",
              "      <td>NaN</td>\n",
              "      <td>NaN</td>\n",
              "      <td>NaN</td>\n",
              "      <td>NO</td>\n",
              "      <td>3</td>\n",
              "      <td>NaN</td>\n",
              "      <td>NaN</td>\n",
              "      <td>0</td>\n",
              "    </tr>\n",
              "    <tr>\n",
              "      <th>2</th>\n",
              "      <td>da90b5c1a9b204c186079f89969aa01cb03c91b2</td>\n",
              "      <td>NaN</td>\n",
              "      <td>K &gt; 24 month</td>\n",
              "      <td>NaN</td>\n",
              "      <td>NaN</td>\n",
              "      <td>NaN</td>\n",
              "      <td>NaN</td>\n",
              "      <td>NaN</td>\n",
              "      <td>NaN</td>\n",
              "      <td>NaN</td>\n",
              "      <td>NaN</td>\n",
              "      <td>NaN</td>\n",
              "      <td>NaN</td>\n",
              "      <td>NaN</td>\n",
              "      <td>NO</td>\n",
              "      <td>1</td>\n",
              "      <td>NaN</td>\n",
              "      <td>NaN</td>\n",
              "      <td>0</td>\n",
              "    </tr>\n",
              "    <tr>\n",
              "      <th>3</th>\n",
              "      <td>364ec1b424cdc64c25441a444a16930289a0051e</td>\n",
              "      <td>SAINT-LOUIS</td>\n",
              "      <td>K &gt; 24 month</td>\n",
              "      <td>7900.0</td>\n",
              "      <td>19.0</td>\n",
              "      <td>7896.0</td>\n",
              "      <td>2632.0</td>\n",
              "      <td>25.0</td>\n",
              "      <td>9385.0</td>\n",
              "      <td>27.0</td>\n",
              "      <td>46.0</td>\n",
              "      <td>20.0</td>\n",
              "      <td>NaN</td>\n",
              "      <td>2.0</td>\n",
              "      <td>NO</td>\n",
              "      <td>61</td>\n",
              "      <td>Data:490F=1GB,7d</td>\n",
              "      <td>7.0</td>\n",
              "      <td>0</td>\n",
              "    </tr>\n",
              "    <tr>\n",
              "      <th>4</th>\n",
              "      <td>d5a5247005bc6d41d3d99f4ef312ebb5f640f2cb</td>\n",
              "      <td>DAKAR</td>\n",
              "      <td>K &gt; 24 month</td>\n",
              "      <td>12350.0</td>\n",
              "      <td>21.0</td>\n",
              "      <td>12351.0</td>\n",
              "      <td>4117.0</td>\n",
              "      <td>29.0</td>\n",
              "      <td>9360.0</td>\n",
              "      <td>66.0</td>\n",
              "      <td>102.0</td>\n",
              "      <td>34.0</td>\n",
              "      <td>NaN</td>\n",
              "      <td>NaN</td>\n",
              "      <td>NO</td>\n",
              "      <td>56</td>\n",
              "      <td>All-net 500F=2000F;5d</td>\n",
              "      <td>11.0</td>\n",
              "      <td>0</td>\n",
              "    </tr>\n",
              "  </tbody>\n",
              "</table>\n",
              "</div>"
            ],
            "text/plain": [
              "                                    user_id       REGION        TENURE  \\\n",
              "0  7ee9e11e342e27c70455960acc80d3f91c1286d1        DAKAR  K > 24 month   \n",
              "1  50443f42bdc92b10388fc56e520e4421a5fa655c          NaN  K > 24 month   \n",
              "2  da90b5c1a9b204c186079f89969aa01cb03c91b2          NaN  K > 24 month   \n",
              "3  364ec1b424cdc64c25441a444a16930289a0051e  SAINT-LOUIS  K > 24 month   \n",
              "4  d5a5247005bc6d41d3d99f4ef312ebb5f640f2cb        DAKAR  K > 24 month   \n",
              "\n",
              "   MONTANT  FREQUENCE_RECH  REVENUE  ARPU_SEGMENT  FREQUENCE  DATA_VOLUME  \\\n",
              "0  20000.0            47.0  21602.0        7201.0       52.0       8835.0   \n",
              "1      NaN             NaN      NaN           NaN        NaN          NaN   \n",
              "2      NaN             NaN      NaN           NaN        NaN          NaN   \n",
              "3   7900.0            19.0   7896.0        2632.0       25.0       9385.0   \n",
              "4  12350.0            21.0  12351.0        4117.0       29.0       9360.0   \n",
              "\n",
              "   ON_NET  ORANGE   TIGO  ZONE1  ZONE2 MRG  REGULARITY  \\\n",
              "0  3391.0   396.0  185.0    NaN    NaN  NO          62   \n",
              "1     NaN     NaN    NaN    NaN    NaN  NO           3   \n",
              "2     NaN     NaN    NaN    NaN    NaN  NO           1   \n",
              "3    27.0    46.0   20.0    NaN    2.0  NO          61   \n",
              "4    66.0   102.0   34.0    NaN    NaN  NO          56   \n",
              "\n",
              "                         TOP_PACK  FREQ_TOP_PACK  CHURN  \n",
              "0  On net 200F=Unlimited _call24H           30.0      0  \n",
              "1                             NaN            NaN      0  \n",
              "2                             NaN            NaN      0  \n",
              "3                Data:490F=1GB,7d            7.0      0  \n",
              "4           All-net 500F=2000F;5d           11.0      0  "
            ]
          },
          "execution_count": 4,
          "metadata": {},
          "output_type": "execute_result"
        }
      ],
      "source": [
        "# previewing a section of the train dataset \n",
        "train.head()"
      ]
    },
    {
      "cell_type": "code",
      "execution_count": 26,
      "metadata": {},
      "outputs": [
        {
          "data": {
            "text/html": [
              "<div>\n",
              "<style scoped>\n",
              "    .dataframe tbody tr th:only-of-type {\n",
              "        vertical-align: middle;\n",
              "    }\n",
              "\n",
              "    .dataframe tbody tr th {\n",
              "        vertical-align: top;\n",
              "    }\n",
              "\n",
              "    .dataframe thead th {\n",
              "        text-align: right;\n",
              "    }\n",
              "</style>\n",
              "<table border=\"1\" class=\"dataframe\">\n",
              "  <thead>\n",
              "    <tr style=\"text-align: right;\">\n",
              "      <th></th>\n",
              "      <th>user_id</th>\n",
              "      <th>REGION</th>\n",
              "      <th>TENURE</th>\n",
              "      <th>MONTANT</th>\n",
              "      <th>FREQUENCE_RECH</th>\n",
              "      <th>REVENUE</th>\n",
              "      <th>ARPU_SEGMENT</th>\n",
              "      <th>FREQUENCE</th>\n",
              "      <th>DATA_VOLUME</th>\n",
              "      <th>ON_NET</th>\n",
              "      <th>ORANGE</th>\n",
              "      <th>TIGO</th>\n",
              "      <th>ZONE1</th>\n",
              "      <th>ZONE2</th>\n",
              "      <th>MRG</th>\n",
              "      <th>REGULARITY</th>\n",
              "      <th>TOP_PACK</th>\n",
              "      <th>FREQ_TOP_PACK</th>\n",
              "    </tr>\n",
              "  </thead>\n",
              "  <tbody>\n",
              "    <tr>\n",
              "      <th>0</th>\n",
              "      <td>51fe4c3347db1f8571d18ac03f716c41acee30a4</td>\n",
              "      <td>MATAM</td>\n",
              "      <td>I 18-21 month</td>\n",
              "      <td>2500.0</td>\n",
              "      <td>5.0</td>\n",
              "      <td>2500.0</td>\n",
              "      <td>833.0</td>\n",
              "      <td>5.0</td>\n",
              "      <td>0.0</td>\n",
              "      <td>64.0</td>\n",
              "      <td>70.0</td>\n",
              "      <td>NaN</td>\n",
              "      <td>NaN</td>\n",
              "      <td>NaN</td>\n",
              "      <td>NO</td>\n",
              "      <td>35</td>\n",
              "      <td>All-net 500F=2000F;5d</td>\n",
              "      <td>5.0</td>\n",
              "    </tr>\n",
              "    <tr>\n",
              "      <th>1</th>\n",
              "      <td>5ad5d67c175bce107cc97b98c4e37dcc38aa7f3e</td>\n",
              "      <td>NaN</td>\n",
              "      <td>K &gt; 24 month</td>\n",
              "      <td>NaN</td>\n",
              "      <td>NaN</td>\n",
              "      <td>NaN</td>\n",
              "      <td>NaN</td>\n",
              "      <td>NaN</td>\n",
              "      <td>NaN</td>\n",
              "      <td>NaN</td>\n",
              "      <td>NaN</td>\n",
              "      <td>NaN</td>\n",
              "      <td>NaN</td>\n",
              "      <td>NaN</td>\n",
              "      <td>NO</td>\n",
              "      <td>2</td>\n",
              "      <td>NaN</td>\n",
              "      <td>NaN</td>\n",
              "    </tr>\n",
              "    <tr>\n",
              "      <th>2</th>\n",
              "      <td>5a4db591c953a8d8f373877fad37aaf4268899a1</td>\n",
              "      <td>NaN</td>\n",
              "      <td>K &gt; 24 month</td>\n",
              "      <td>NaN</td>\n",
              "      <td>NaN</td>\n",
              "      <td>NaN</td>\n",
              "      <td>NaN</td>\n",
              "      <td>NaN</td>\n",
              "      <td>0.0</td>\n",
              "      <td>NaN</td>\n",
              "      <td>NaN</td>\n",
              "      <td>NaN</td>\n",
              "      <td>NaN</td>\n",
              "      <td>NaN</td>\n",
              "      <td>NO</td>\n",
              "      <td>22</td>\n",
              "      <td>NaN</td>\n",
              "      <td>NaN</td>\n",
              "    </tr>\n",
              "    <tr>\n",
              "      <th>3</th>\n",
              "      <td>8bf9b4d8880aeba1c9a0da48be78f12e629be37c</td>\n",
              "      <td>NaN</td>\n",
              "      <td>K &gt; 24 month</td>\n",
              "      <td>NaN</td>\n",
              "      <td>NaN</td>\n",
              "      <td>NaN</td>\n",
              "      <td>NaN</td>\n",
              "      <td>NaN</td>\n",
              "      <td>NaN</td>\n",
              "      <td>NaN</td>\n",
              "      <td>NaN</td>\n",
              "      <td>NaN</td>\n",
              "      <td>NaN</td>\n",
              "      <td>NaN</td>\n",
              "      <td>NO</td>\n",
              "      <td>6</td>\n",
              "      <td>NaN</td>\n",
              "      <td>NaN</td>\n",
              "    </tr>\n",
              "    <tr>\n",
              "      <th>4</th>\n",
              "      <td>c7cdf2af01e9fa95bf498b68c122aa4b9a8d10df</td>\n",
              "      <td>SAINT-LOUIS</td>\n",
              "      <td>K &gt; 24 month</td>\n",
              "      <td>5100.0</td>\n",
              "      <td>7.0</td>\n",
              "      <td>5637.0</td>\n",
              "      <td>1879.0</td>\n",
              "      <td>15.0</td>\n",
              "      <td>7783.0</td>\n",
              "      <td>30.0</td>\n",
              "      <td>24.0</td>\n",
              "      <td>0.0</td>\n",
              "      <td>0.0</td>\n",
              "      <td>NaN</td>\n",
              "      <td>NO</td>\n",
              "      <td>60</td>\n",
              "      <td>Data:1000F=2GB,30d</td>\n",
              "      <td>4.0</td>\n",
              "    </tr>\n",
              "  </tbody>\n",
              "</table>\n",
              "</div>"
            ],
            "text/plain": [
              "                                    user_id       REGION         TENURE  \\\n",
              "0  51fe4c3347db1f8571d18ac03f716c41acee30a4        MATAM  I 18-21 month   \n",
              "1  5ad5d67c175bce107cc97b98c4e37dcc38aa7f3e          NaN   K > 24 month   \n",
              "2  5a4db591c953a8d8f373877fad37aaf4268899a1          NaN   K > 24 month   \n",
              "3  8bf9b4d8880aeba1c9a0da48be78f12e629be37c          NaN   K > 24 month   \n",
              "4  c7cdf2af01e9fa95bf498b68c122aa4b9a8d10df  SAINT-LOUIS   K > 24 month   \n",
              "\n",
              "   MONTANT  FREQUENCE_RECH  REVENUE  ARPU_SEGMENT  FREQUENCE  DATA_VOLUME  \\\n",
              "0   2500.0             5.0   2500.0         833.0        5.0          0.0   \n",
              "1      NaN             NaN      NaN           NaN        NaN          NaN   \n",
              "2      NaN             NaN      NaN           NaN        NaN          0.0   \n",
              "3      NaN             NaN      NaN           NaN        NaN          NaN   \n",
              "4   5100.0             7.0   5637.0        1879.0       15.0       7783.0   \n",
              "\n",
              "   ON_NET  ORANGE  TIGO  ZONE1  ZONE2 MRG  REGULARITY               TOP_PACK  \\\n",
              "0    64.0    70.0   NaN    NaN    NaN  NO          35  All-net 500F=2000F;5d   \n",
              "1     NaN     NaN   NaN    NaN    NaN  NO           2                    NaN   \n",
              "2     NaN     NaN   NaN    NaN    NaN  NO          22                    NaN   \n",
              "3     NaN     NaN   NaN    NaN    NaN  NO           6                    NaN   \n",
              "4    30.0    24.0   0.0    0.0    NaN  NO          60     Data:1000F=2GB,30d   \n",
              "\n",
              "   FREQ_TOP_PACK  \n",
              "0            5.0  \n",
              "1            NaN  \n",
              "2            NaN  \n",
              "3            NaN  \n",
              "4            4.0  "
            ]
          },
          "execution_count": 26,
          "metadata": {},
          "output_type": "execute_result"
        }
      ],
      "source": [
        "# previewing a section of the test dataset\n",
        "test.head()"
      ]
    },
    {
      "cell_type": "code",
      "execution_count": 27,
      "metadata": {},
      "outputs": [
        {
          "data": {
            "text/plain": [
              "((1077024, 19), (190063, 18))"
            ]
          },
          "execution_count": 27,
          "metadata": {},
          "output_type": "execute_result"
        }
      ],
      "source": [
        "train.shape, test.shape"
      ]
    },
    {
      "cell_type": "code",
      "execution_count": 30,
      "metadata": {},
      "outputs": [
        {
          "data": {
            "text/plain": [
              "(array(['user_id', 'REGION', 'TENURE', 'MONTANT', 'FREQUENCE_RECH',\n",
              "        'REVENUE', 'ARPU_SEGMENT', 'FREQUENCE', 'DATA_VOLUME', 'ON_NET',\n",
              "        'ORANGE', 'TIGO', 'ZONE1', 'ZONE2', 'MRG', 'REGULARITY',\n",
              "        'TOP_PACK', 'FREQ_TOP_PACK', 'CHURN'], dtype=object),\n",
              " array(['user_id', 'REGION', 'TENURE', 'MONTANT', 'FREQUENCE_RECH',\n",
              "        'REVENUE', 'ARPU_SEGMENT', 'FREQUENCE', 'DATA_VOLUME', 'ON_NET',\n",
              "        'ORANGE', 'TIGO', 'ZONE1', 'ZONE2', 'MRG', 'REGULARITY',\n",
              "        'TOP_PACK', 'FREQ_TOP_PACK'], dtype=object))"
            ]
          },
          "execution_count": 30,
          "metadata": {},
          "output_type": "execute_result"
        }
      ],
      "source": [
        "train.columns.values, test.columns.values"
      ]
    },
    {
      "cell_type": "code",
      "execution_count": null,
      "metadata": {},
      "outputs": [],
      "source": []
    },
    {
      "cell_type": "markdown",
      "metadata": {
        "id": "okaZxnc3fRId"
      },
      "source": [
        "# Exploratory Data Analysis: EDA\n",
        "Here is the section to **inspect** the datasets in depth, **present** it, make **hypotheses** and **think** the *cleaning, processing and features creation*."
      ]
    },
    {
      "cell_type": "markdown",
      "metadata": {
        "id": "zXd3ZCL09uvj"
      },
      "source": [
        "## Univariate Analysis\n",
        "Here is the section to explore, analyze, visualize each variable independently of the others."
      ]
    },
    {
      "cell_type": "code",
      "execution_count": 7,
      "metadata": {
        "id": "0VNR9LfZfbGe"
      },
      "outputs": [],
      "source": [
        "# Code here"
      ]
    },
    {
      "cell_type": "markdown",
      "metadata": {
        "id": "HwNIKi8K-WlT"
      },
      "source": [
        "## Bivariate & Multivariate Analysis\n",
        "Here is the section to explore, analyze, visualize each variable in relation to the others."
      ]
    },
    {
      "cell_type": "code",
      "execution_count": 8,
      "metadata": {
        "id": "iRaCoXds-sXT"
      },
      "outputs": [],
      "source": [
        "# Code here"
      ]
    },
    {
      "cell_type": "markdown",
      "metadata": {
        "id": "R8WB7j-3fxzL"
      },
      "source": [
        "# Feature Processing & Engineering\n",
        "Here is the section to **clean**, **process** the dataset and **create new features**."
      ]
    },
    {
      "cell_type": "markdown",
      "metadata": {
        "id": "X6Rh5SimmcGe"
      },
      "source": [
        "## Drop Duplicates"
      ]
    },
    {
      "cell_type": "code",
      "execution_count": 9,
      "metadata": {
        "id": "dIBrDy1Pmo2_"
      },
      "outputs": [],
      "source": [
        "# Use pandas.DataFrame.drop_duplicates method"
      ]
    },
    {
      "cell_type": "markdown",
      "metadata": {
        "id": "wxYGw6zug8lI"
      },
      "source": [
        "## Dataset Splitting"
      ]
    },
    {
      "cell_type": "code",
      "execution_count": 10,
      "metadata": {
        "id": "cbsbMbs1hDzo"
      },
      "outputs": [],
      "source": [
        "# Use train_test_split with a random_state, and add stratify for Classification"
      ]
    },
    {
      "cell_type": "markdown",
      "metadata": {
        "id": "dLJuYG_JgBH8"
      },
      "source": [
        "## Impute Missing Values"
      ]
    },
    {
      "cell_type": "code",
      "execution_count": 11,
      "metadata": {
        "id": "52POL1F8gLEa"
      },
      "outputs": [],
      "source": [
        "# Use sklearn.impute.SimpleImputer"
      ]
    },
    {
      "cell_type": "markdown",
      "metadata": {
        "id": "vOoXNG6lgLVD"
      },
      "source": [
        "## New Features Creation"
      ]
    },
    {
      "cell_type": "code",
      "execution_count": 12,
      "metadata": {
        "id": "fU5RQ0itegd4"
      },
      "outputs": [],
      "source": [
        "# Code here"
      ]
    },
    {
      "cell_type": "markdown",
      "metadata": {
        "id": "eYkNdwQ-gRod"
      },
      "source": [
        "## Features Encoding\n",
        "\n",
        "\n"
      ]
    },
    {
      "cell_type": "code",
      "execution_count": 13,
      "metadata": {
        "id": "99vphpwPgbUw"
      },
      "outputs": [],
      "source": [
        "# From sklearn.preprocessing use OneHotEncoder to encode the categorical features."
      ]
    },
    {
      "cell_type": "markdown",
      "metadata": {
        "id": "Q0TvhRVghEcP"
      },
      "source": [
        "## Features Scaling\n"
      ]
    },
    {
      "cell_type": "code",
      "execution_count": 14,
      "metadata": {
        "id": "pf6WtuHphLBE"
      },
      "outputs": [],
      "source": [
        "# From sklearn.preprocessing use StandardScaler, MinMaxScaler, etc."
      ]
    },
    {
      "cell_type": "markdown",
      "metadata": {
        "id": "4-UlAVv4iYz8"
      },
      "source": [
        "## Optional: Train set Balancing (for Classification only)"
      ]
    },
    {
      "cell_type": "code",
      "execution_count": 15,
      "metadata": {
        "id": "ySLn254IiujE"
      },
      "outputs": [],
      "source": [
        "# Use Over-sampling/Under-sampling methods, more details here: https://imbalanced-learn.org/stable/install.html"
      ]
    },
    {
      "cell_type": "markdown",
      "metadata": {
        "id": "WloQgMqqf6bT"
      },
      "source": [
        "# Machine Learning Modeling \n",
        "Here is the section to **build**, **train**, **evaluate** and **compare** the models to each others."
      ]
    },
    {
      "cell_type": "markdown",
      "metadata": {
        "id": "tTiiqCnG1FA2"
      },
      "source": [
        "## Simple Model #001\n",
        "\n",
        "Please, keep the following structure to try all the model you want."
      ]
    },
    {
      "cell_type": "markdown",
      "metadata": {
        "id": "46li5Z2z1ME7"
      },
      "source": [
        "### Create the Model"
      ]
    },
    {
      "cell_type": "code",
      "execution_count": 16,
      "metadata": {
        "id": "1Fjv6pJt1uoV"
      },
      "outputs": [],
      "source": [
        "# Code here"
      ]
    },
    {
      "cell_type": "markdown",
      "metadata": {
        "id": "XwHqTKk11U5f"
      },
      "source": [
        "### Train the Model"
      ]
    },
    {
      "cell_type": "code",
      "execution_count": 17,
      "metadata": {
        "id": "fgsct6LH1v9e"
      },
      "outputs": [],
      "source": [
        "# Use the .fit method"
      ]
    },
    {
      "cell_type": "markdown",
      "metadata": {
        "id": "M6aXGMEf1Yra"
      },
      "source": [
        "### Evaluate the Model on the Evaluation dataset (Evalset)"
      ]
    },
    {
      "cell_type": "code",
      "execution_count": 18,
      "metadata": {
        "id": "9XBrsspR1wso"
      },
      "outputs": [],
      "source": [
        "# Compute the valid metrics for the use case # Optional: show the classification report "
      ]
    },
    {
      "cell_type": "markdown",
      "metadata": {
        "id": "001NdcP11dMu"
      },
      "source": [
        "### Predict on a unknown dataset (Testset)"
      ]
    },
    {
      "cell_type": "code",
      "execution_count": 19,
      "metadata": {
        "id": "mWnGeGn0i3b0"
      },
      "outputs": [],
      "source": [
        "# Use .predict method # .predict_proba is available just for classification"
      ]
    },
    {
      "cell_type": "markdown",
      "metadata": {
        "id": "A54gPujOmqaV"
      },
      "source": [
        "## Simple Model #002"
      ]
    },
    {
      "cell_type": "markdown",
      "metadata": {
        "id": "MC6WaxZUmqaW"
      },
      "source": [
        "### Create the Model"
      ]
    },
    {
      "cell_type": "code",
      "execution_count": 20,
      "metadata": {
        "id": "THTw7OjhmqaW"
      },
      "outputs": [],
      "source": [
        "# Code here"
      ]
    },
    {
      "cell_type": "markdown",
      "metadata": {
        "id": "n7CV9W0DmqaW"
      },
      "source": [
        "### Train the Model"
      ]
    },
    {
      "cell_type": "code",
      "execution_count": 21,
      "metadata": {
        "id": "uQMdz0JPmqaW"
      },
      "outputs": [],
      "source": [
        "# Use the .fit method"
      ]
    },
    {
      "cell_type": "markdown",
      "metadata": {
        "id": "f1Fb-2_PmqaW"
      },
      "source": [
        "### Evaluate the Model on the Evaluation dataset (Evalset)"
      ]
    },
    {
      "cell_type": "code",
      "execution_count": 22,
      "metadata": {
        "id": "oz3-pxgDmqaW"
      },
      "outputs": [],
      "source": [
        "# Compute the valid metrics for the use case # Optional: show the classification report "
      ]
    },
    {
      "cell_type": "markdown",
      "metadata": {
        "id": "7-x7GFqxmqaW"
      },
      "source": [
        "### Predict on a unknown dataset (Testset)"
      ]
    },
    {
      "cell_type": "code",
      "execution_count": 23,
      "metadata": {
        "id": "ORaQB1zLmqaW"
      },
      "outputs": [],
      "source": [
        "# Use .predict method # .predict_proba is available just for classification"
      ]
    },
    {
      "cell_type": "markdown",
      "metadata": {
        "id": "S73ZUqkUmyz_"
      },
      "source": [
        "## Models comparison\n",
        "Create a pandas dataframe that will allow you to compare your models.\n",
        "\n",
        "Find a sample frame below :\n",
        "\n",
        "|     | Model_Name     | Metric (metric_name)    | Details  |\n",
        "|:---:|:--------------:|:--------------:|:-----------------:|\n",
        "| 0   |  -             |  -             | -                 |\n",
        "| 1   |  -             |  -             | -                 |\n",
        "\n",
        "\n",
        "You might use the pandas dataframe method `.sort_values()` to sort the dataframe regarding the metric."
      ]
    },
    {
      "cell_type": "code",
      "execution_count": null,
      "metadata": {
        "id": "jpwLiOo9pVIQ"
      },
      "outputs": [],
      "source": []
    },
    {
      "cell_type": "markdown",
      "metadata": {
        "id": "ezmrABneph31"
      },
      "source": [
        "## Hyperparameters tuning \n",
        "\n",
        "Fine-tune the Top-k models (3 < k < 5) using a ` GridSearchCV`  (that is in sklearn.model_selection\n",
        ") to find the best hyperparameters and achieve the maximum performance of each of the Top-k models, then compare them again to select the best one."
      ]
    },
    {
      "cell_type": "code",
      "execution_count": 24,
      "metadata": {
        "id": "FpTEDK9RrlRl"
      },
      "outputs": [],
      "source": [
        "# Code here"
      ]
    },
    {
      "cell_type": "markdown",
      "metadata": {
        "id": "I_7_gsrX2VSk"
      },
      "source": [
        "# Export key components\n",
        "Here is the section to **export** the important ML objects that will be use to develop an app: *Encoder, Scaler, ColumnTransformer, Model, Pipeline, etc*."
      ]
    },
    {
      "cell_type": "code",
      "execution_count": 25,
      "metadata": {
        "id": "32mviWyGAMqP"
      },
      "outputs": [],
      "source": [
        "# Use pickle : put all your key components in a python dictionary and save it as a file that will be loaded in an app"
      ]
    }
  ],
  "metadata": {
    "colab": {
      "authorship_tag": "ABX9TyMbGyfKWqwXNuXNuhQpgnBh",
      "collapsed_sections": [
        "wxYGw6zug8lI",
        "S73ZUqkUmyz_"
      ],
      "include_colab_link": true,
      "provenance": [],
      "toc_visible": true
    },
    "kernelspec": {
      "display_name": "Python 3",
      "name": "python3"
    },
    "language_info": {
      "codemirror_mode": {
        "name": "ipython",
        "version": 3
      },
      "file_extension": ".py",
      "mimetype": "text/x-python",
      "name": "python",
      "nbconvert_exporter": "python",
      "pygments_lexer": "ipython3",
      "version": "3.9.13"
    }
  },
  "nbformat": 4,
  "nbformat_minor": 0
}
